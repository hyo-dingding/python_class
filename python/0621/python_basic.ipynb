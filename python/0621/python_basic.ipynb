{
 "cells": [
  {
   "cell_type": "markdown",
   "metadata": {},
   "source": [
    "### Hello, Python"
   ]
  },
  {
   "cell_type": "code",
   "execution_count": null,
   "metadata": {},
   "outputs": [],
   "source": [
    "print(\"Hello, Python1\")\n",
    "print(\"Hello, Python2\")\n",
    "print('Hello, Python3')"
   ]
  },
  {
   "cell_type": "code",
   "execution_count": null,
   "metadata": {},
   "outputs": [],
   "source": [
    "\"Hello, Python1\"\n",
    "\"Hello, Python2\"\n",
    "\"Hello, Python3\""
   ]
  },
  {
   "cell_type": "code",
   "execution_count": null,
   "metadata": {},
   "outputs": [],
   "source": [
    "Hello, Python1\n",
    "Hello, Python2\n",
    "Hello, Python3"
   ]
  },
  {
   "cell_type": "code",
   "execution_count": null,
   "metadata": {},
   "outputs": [],
   "source": [
    "print(1)\n",
    "print(2)\n",
    "print(3)"
   ]
  },
  {
   "cell_type": "code",
   "execution_count": null,
   "metadata": {},
   "outputs": [],
   "source": [
    "print('1')\n",
    "print('2')\n",
    "print('3')"
   ]
  },
  {
   "cell_type": "code",
   "execution_count": null,
   "metadata": {},
   "outputs": [],
   "source": [
    "print(1+1)\n",
    "print(2+2)\n",
    "print(3+3)"
   ]
  },
  {
   "cell_type": "code",
   "execution_count": null,
   "metadata": {},
   "outputs": [],
   "source": [
    "print('1+1')\n",
    "print('2+2')\n",
    "print('3+3')"
   ]
  },
  {
   "cell_type": "code",
   "execution_count": null,
   "metadata": {},
   "outputs": [],
   "source": [
    "1+1\n",
    "2+2\n",
    "3+3"
   ]
  },
  {
   "cell_type": "code",
   "execution_count": null,
   "metadata": {},
   "outputs": [],
   "source": [
    "'1'\n",
    "'2'\n",
    "'3'"
   ]
  },
  {
   "cell_type": "code",
   "execution_count": null,
   "metadata": {},
   "outputs": [],
   "source": [
    "1\n",
    "2\n",
    "3"
   ]
  },
  {
   "cell_type": "markdown",
   "metadata": {},
   "source": [
    "### 파이썬 코딩 규칙"
   ]
  },
  {
   "cell_type": "code",
   "execution_count": null,
   "metadata": {},
   "outputs": [],
   "source": [
    "# 대문자와 소문자 구분\n",
    "print('Hello, Python1')\n",
    "print('Hello, Python2')\n",
    "print('Hello, Python3')"
   ]
  },
  {
   "cell_type": "code",
   "execution_count": null,
   "metadata": {},
   "outputs": [],
   "source": [
    "# 들여쓰기\n",
    "print('Hello, Python1')\n",
    "print('Hello, Python2')\n",
    "print('Hello, Python3')"
   ]
  },
  {
   "cell_type": "code",
   "execution_count": null,
   "metadata": {},
   "outputs": [],
   "source": [
    "# 한줄주석\n",
    "print('Hello, Python1') \n",
    "print('Hello, Python2')\n",
    "print('Hello, Python3')"
   ]
  },
  {
   "cell_type": "markdown",
   "metadata": {},
   "source": [
    "### 출력함수 호출하기"
   ]
  },
  {
   "cell_type": "code",
   "execution_count": null,
   "metadata": {},
   "outputs": [],
   "source": [
    "# 함수 도움말 보기\n",
    "# 함수명?\n",
    "# help(함수명)\n",
    "\n",
    "# print함수의 도움말 보기"
   ]
  },
  {
   "cell_type": "code",
   "execution_count": null,
   "metadata": {},
   "outputs": [],
   "source": [
    "# 하나의 값 출력하기\n",
    "print('python')\n",
    "print(100)\n",
    "print(1+1)"
   ]
  },
  {
   "cell_type": "code",
   "execution_count": null,
   "metadata": {},
   "outputs": [],
   "source": [
    "message = \"Hello, Python!\" \n",
    "\n",
    "# 변수 message의 값을 출력하세요."
   ]
  },
  {
   "cell_type": "code",
   "execution_count": null,
   "metadata": {},
   "outputs": [],
   "source": [
    "# 두개 이상의 값 출력하기\n",
    "print('python', 'java', 'c')\n",
    "\n",
    "# 수식과 결과 출력하기\n",
    "# (예) 1+1= 2\n",
    "print('1431*15=')"
   ]
  },
  {
   "cell_type": "code",
   "execution_count": null,
   "metadata": {},
   "outputs": [],
   "source": [
    "# 해시태그 '#'를 구분자로 지정하기\n",
    "print('python', 'java', 'c') \n",
    "\n",
    "# 빈문자''를 구분자로 지정하기\n",
    "print('1+1=', 1+1) "
   ]
  },
  {
   "cell_type": "code",
   "execution_count": null,
   "metadata": {},
   "outputs": [],
   "source": [
    "# 끝문자를 지정하여, 두 문장을 줄바꿈 없이 출력하기\n",
    "print('Life is short')\n",
    "print('You need python')"
   ]
  },
  {
   "cell_type": "code",
   "execution_count": null,
   "metadata": {},
   "outputs": [],
   "source": [
    "# 파이썬의 기본 내장함수 보기\n",
    "dir(__builtins__)"
   ]
  },
  {
   "cell_type": "markdown",
   "metadata": {},
   "source": [
    "### 입력함수 호출하기"
   ]
  },
  {
   "cell_type": "code",
   "execution_count": null,
   "metadata": {},
   "outputs": [],
   "source": [
    "# 입력함수 input의 도움말 보기\n"
   ]
  },
  {
   "cell_type": "code",
   "execution_count": null,
   "metadata": {},
   "outputs": [],
   "source": [
    "input()"
   ]
  },
  {
   "cell_type": "code",
   "execution_count": null,
   "metadata": {},
   "outputs": [],
   "source": [
    "input('메시지를 입력하세요')"
   ]
  },
  {
   "cell_type": "code",
   "execution_count": null,
   "metadata": {},
   "outputs": [],
   "source": [
    "# 숫자를 입력하면 어떻게 될까요?\n",
    "input('나이를 입력하세요')"
   ]
  },
  {
   "cell_type": "code",
   "execution_count": null,
   "metadata": {},
   "outputs": [],
   "source": [
    "# 나이만 출력되는 이유는 무엇일까요?\n",
    "input('이름을 입력하세요')\n",
    "input('나이를 입력하세요')"
   ]
  },
  {
   "cell_type": "code",
   "execution_count": null,
   "metadata": {},
   "outputs": [],
   "source": [
    "# 값을 리턴하는 함수는 리턴값을 변수에 담아 사용할 수 있습니다.\n",
    "\n",
    "# 이름을 입력받아 변수 name에 할당합니다.\n",
    "\n",
    "# 나이를 입력받아 변수 age에 할당합니다.\n",
    "\n",
    "# 나이에 1을 더합니다."
   ]
  },
  {
   "cell_type": "code",
   "execution_count": null,
   "metadata": {},
   "outputs": [],
   "source": [
    "# print함수는 리턴값이 있는 함수일까?\n"
   ]
  },
  {
   "cell_type": "code",
   "execution_count": null,
   "metadata": {},
   "outputs": [],
   "source": [
    "# input함수는 리턴값이 있는 함수일까?\n"
   ]
  },
  {
   "cell_type": "markdown",
   "metadata": {},
   "source": [
    "### 모듈의 함수 호출하기"
   ]
  },
  {
   "cell_type": "code",
   "execution_count": null,
   "metadata": {},
   "outputs": [],
   "source": [
    "# 로켓 발사 카운트다운\n",
    "import time\n",
    "print(3)\n",
    "print(2)\n",
    "print(1)\n",
    "print(\"launch!\")\n"
   ]
  },
  {
   "cell_type": "code",
   "execution_count": null,
   "metadata": {},
   "outputs": [],
   "source": [
    "import time as t\n",
    "print(3)\n",
    "print(2)\n",
    "print(1)\n",
    "print(\"launch!\")\n"
   ]
  },
  {
   "cell_type": "code",
   "execution_count": null,
   "metadata": {},
   "outputs": [],
   "source": [
    "from time import sleep\n",
    "print(3)\n",
    "print(2)\n",
    "print(1)\n",
    "print(\"launch!\")\n"
   ]
  },
  {
   "cell_type": "code",
   "execution_count": null,
   "metadata": {},
   "outputs": [],
   "source": [
    "# 모듈의 함수 사용법\n",
    "# default값이 없는 매개변수에는 반드시 값을 전달해주어야 합니다.\n",
    "import time \n",
    "time.sleep?"
   ]
  },
  {
   "cell_type": "code",
   "execution_count": null,
   "metadata": {},
   "outputs": [],
   "source": [
    "# 리턴값이 없는 함수는 코드셀의 마지막 줄에 있어도 아무것도 출력되지 않아요.\n",
    "time.sleep(1)"
   ]
  },
  {
   "cell_type": "code",
   "execution_count": null,
   "metadata": {},
   "outputs": [],
   "source": [
    "# 리턴값이 있는 함수는 코드셀의 마지막 줄에 있을 때, 리턴값을 출력해줘요.\n",
    "import random\n",
    "random.randint(1,10)"
   ]
  },
  {
   "cell_type": "code",
   "execution_count": null,
   "metadata": {},
   "outputs": [],
   "source": [
    "random.randint?"
   ]
  },
  {
   "cell_type": "code",
   "execution_count": null,
   "metadata": {},
   "outputs": [],
   "source": [
    "# 모듈의 함수 목록 보기\n",
    "import random \n",
    "dir(random)"
   ]
  },
  {
   "cell_type": "markdown",
   "metadata": {},
   "source": [
    "### 변수"
   ]
  },
  {
   "cell_type": "code",
   "execution_count": null,
   "metadata": {},
   "outputs": [],
   "source": [
    "# 변수에는 한번에 하나의 자료만 담을 수 있습니다.\n",
    "# 동일한 이름의 변수에 값을 여러 번 할당하면 마지막 할당한 값만 남습니다.\n",
    "family = 'father'\n",
    "family = 'mother'\n",
    "family = 'syster'\n",
    "family = 'brother'\n",
    "family = 'me'\n",
    "\n",
    "# family를 출력해보세요."
   ]
  },
  {
   "cell_type": "code",
   "execution_count": null,
   "metadata": {},
   "outputs": [],
   "source": [
    "# 변수에는 어떠한 type의 자료도 담을 수 있습니다.\n",
    "# 변수에 할당되는 값에 따라 변수의 자료형이 결정됩니다.\n",
    "\n",
    "a = 10 \n",
    "print(a, type(a))\n",
    "\n",
    "a = 'hello'\n",
    "print(a, type(a))\n",
    "\n",
    "a = ['python','java','c']\n",
    "print(a, type(a))\n",
    "\n",
    "# a에 10.0을 할당하고, 값과 자료형을 출력해보세요."
   ]
  },
  {
   "cell_type": "markdown",
   "metadata": {},
   "source": [
    "### 기본자료형\n",
    "    \n"
   ]
  },
  {
   "cell_type": "code",
   "execution_count": null,
   "metadata": {},
   "outputs": [],
   "source": [
    "# '홍길동'의 자료형은?"
   ]
  },
  {
   "cell_type": "code",
   "execution_count": null,
   "metadata": {},
   "outputs": [],
   "source": [
    "# 100의 자료형은?"
   ]
  },
  {
   "cell_type": "code",
   "execution_count": null,
   "metadata": {},
   "outputs": [],
   "source": [
    "# 100.0의 자료형은?"
   ]
  },
  {
   "cell_type": "code",
   "execution_count": null,
   "metadata": {},
   "outputs": [],
   "source": [
    "# 1>2의 자료형은?"
   ]
  },
  {
   "cell_type": "code",
   "execution_count": null,
   "metadata": {},
   "outputs": [],
   "source": [
    "# 'True'의 자료형은?"
   ]
  },
  {
   "cell_type": "code",
   "execution_count": null,
   "metadata": {},
   "outputs": [],
   "source": [
    "# 'true'의 자료형은?"
   ]
  },
  {
   "cell_type": "code",
   "execution_count": null,
   "metadata": {},
   "outputs": [],
   "source": [
    "# True의 자료형은?"
   ]
  },
  {
   "cell_type": "code",
   "execution_count": null,
   "metadata": {},
   "outputs": [],
   "source": [
    "# true의 자료형은?"
   ]
  },
  {
   "cell_type": "code",
   "execution_count": null,
   "metadata": {},
   "outputs": [],
   "source": [
    "true = 'hello'\n",
    "# true의 자료형은?"
   ]
  },
  {
   "cell_type": "markdown",
   "metadata": {},
   "source": [
    "### 컨테이너자료형"
   ]
  },
  {
   "cell_type": "markdown",
   "metadata": {},
   "source": [
    "#### 리스트(list)"
   ]
  },
  {
   "cell_type": "code",
   "execution_count": null,
   "metadata": {},
   "outputs": [],
   "source": [
    "# 리스트 생성하기\n",
    "todo_list = ['운동','독서','청소','공부','저녁약속']\n",
    "print(todo_list)\n",
    "print(type(todo_list))"
   ]
  },
  {
   "cell_type": "code",
   "execution_count": null,
   "metadata": {},
   "outputs": [],
   "source": [
    "# 리스트에서 하나의 값 가져오기\n",
    "todo_list = ['운동','독서','청소','공부','저녁약속']\n",
    "print(todo_list)\n",
    "print('첫번째로 할 일:')\n",
    "print('세번째로 할 일:')\n",
    "print('마지막으로 할 일:')\n",
    "print('마지막으로 할 일:')"
   ]
  },
  {
   "cell_type": "code",
   "execution_count": null,
   "metadata": {},
   "outputs": [],
   "source": [
    "# 리스트에서 값 잘라오기\n",
    "todo_list = ['운동','독서','청소','공부','저녁약속']\n",
    "print(todo_list)\n",
    "print(\"두번째~네번째 할 일:\")\n",
    "print(\"처음 할 일 2가지:\")\n",
    "print(\"3번째 이후로 할 일:\")\n",
    "print(\"할일 모두 가져오기:\")"
   ]
  },
  {
   "cell_type": "code",
   "execution_count": null,
   "metadata": {},
   "outputs": [],
   "source": [
    "# 리스트 끝에 값 추가하기\n",
    "todo_list = ['운동','독서','청소','공부','저녁약속']\n",
    "print(todo_list)\n",
    "print(\"-----마지막에 '일기쓰기' 추가-----\")\n"
   ]
  },
  {
   "cell_type": "code",
   "execution_count": null,
   "metadata": {},
   "outputs": [],
   "source": [
    "# 리스트 정렬하기\n",
    "todo_list = ['운동','독서','청소','공부','저녁약속']\n",
    "print(todo_list)\n",
    "print(\"-----정렬하기-----\")\n"
   ]
  },
  {
   "cell_type": "code",
   "execution_count": null,
   "metadata": {},
   "outputs": [],
   "source": [
    "# 리스트가 가지는 함수(메소드)\n",
    "dir(list)"
   ]
  },
  {
   "cell_type": "code",
   "execution_count": null,
   "metadata": {},
   "outputs": [],
   "source": [
    "# 오늘은 뭘 먹지?\n",
    "menu = ['햄버거','김치찌개','초밥']\n",
    "\n",
    "# 메뉴 추가하기\n",
    "\n",
    "\n",
    "# 랜덤으로 메뉴 선택하기 (random모듈의 choice 함수 사용)\n",
    "\n"
   ]
  },
  {
   "cell_type": "markdown",
   "metadata": {},
   "source": [
    "#### 튜플(tuple)"
   ]
  },
  {
   "cell_type": "code",
   "execution_count": null,
   "metadata": {},
   "outputs": [],
   "source": [
    "t3 = (80,90,100) \n",
    "t1 = (80,) \n",
    "not_tuple = (80)\n",
    "\n",
    "# t3, t1, no_tuple의 값과 type을 출력해보세요.\n"
   ]
  },
  {
   "cell_type": "code",
   "execution_count": null,
   "metadata": {},
   "outputs": [],
   "source": [
    "t3 = 80,90,100\n",
    "t1 = 80, \n",
    "not_tuple = 80\n",
    "\n",
    "# t3, t1, no_tuple의 값과 type을 출력해보세요."
   ]
  },
  {
   "cell_type": "code",
   "execution_count": null,
   "metadata": {},
   "outputs": [],
   "source": [
    "dir(tuple)"
   ]
  },
  {
   "cell_type": "markdown",
   "metadata": {},
   "source": [
    "#### 딕셔너리(dict)"
   ]
  },
  {
   "cell_type": "code",
   "execution_count": null,
   "metadata": {},
   "outputs": [],
   "source": [
    "# 분식집 메뉴판\n",
    "menu = {\"김밥\":4000, \"떡볶이\":3000, \"어묵\":2000, \"튀김\":3500}\n",
    "print(menu)\n",
    "\n",
    "# \"김밥\"은 얼마인지 출력해보세요.\n",
    "\n",
    "# 딕셔너리는 인덱스가 없음\n",
    "# print(menu[0]) x"
   ]
  },
  {
   "cell_type": "markdown",
   "metadata": {},
   "source": [
    "#### 집합(set)"
   ]
  },
  {
   "cell_type": "code",
   "execution_count": null,
   "metadata": {},
   "outputs": [],
   "source": [
    "snack = {'새우깡','오감자','양파링','포카칩','양파링'}\n",
    "print(snack)"
   ]
  },
  {
   "cell_type": "code",
   "execution_count": null,
   "metadata": {},
   "outputs": [],
   "source": [
    "# 달콤한 과자, 짭짤한 과자\n",
    "sweet= {'빼빼로','칸초','허니버터칩','허니버터칩','허니버터칩'}\n",
    "salty = {'포카칩','새우깡','허니버터칩'}\n",
    "print(sweet)\n",
    "print(salty)"
   ]
  },
  {
   "cell_type": "code",
   "execution_count": null,
   "metadata": {},
   "outputs": [],
   "source": [
    "# 모든 과자 집합\n",
    "print(\"합집합:\")"
   ]
  },
  {
   "cell_type": "code",
   "execution_count": null,
   "metadata": {},
   "outputs": [],
   "source": [
    "# 단짠을 찾아라\n",
    "print(\"교집합:\")"
   ]
  },
  {
   "cell_type": "code",
   "execution_count": null,
   "metadata": {},
   "outputs": [],
   "source": [
    "# 달콤하기만 한 과자\n",
    "print(\"차집합(sweet에만 속하는 과자):\")"
   ]
  },
  {
   "cell_type": "code",
   "execution_count": null,
   "metadata": {},
   "outputs": [],
   "source": [
    "# 짭짤하기만 한 과자\n",
    "print(\"차집합(salty에만 속하는 과자):\")"
   ]
  },
  {
   "cell_type": "markdown",
   "metadata": {},
   "source": [
    "### 객체의 메소드"
   ]
  },
  {
   "cell_type": "code",
   "execution_count": null,
   "metadata": {},
   "outputs": [],
   "source": [
    "fruits = ['apple','banana','kiwi']\n",
    "fruits.append('watermelon') # 반환값이 없는 메소드\n",
    "print(fruits)\n",
    "\n",
    "len(fruits) # len : 반환값이 있는 함수"
   ]
  },
  {
   "cell_type": "markdown",
   "metadata": {},
   "source": [
    "### 연산자"
   ]
  },
  {
   "cell_type": "markdown",
   "metadata": {},
   "source": [
    "#### 산술연산"
   ]
  },
  {
   "cell_type": "code",
   "execution_count": null,
   "metadata": {},
   "outputs": [],
   "source": [
    "print('10+3=')\n",
    "print('10-3=')\n",
    "print('10*3=')\n",
    "print('10/3=')\n",
    "print('10//3=')\n",
    "print('10%%3=')\n",
    "print('10**3=')"
   ]
  },
  {
   "cell_type": "markdown",
   "metadata": {},
   "source": [
    "#### 비교연산"
   ]
  },
  {
   "cell_type": "code",
   "execution_count": null,
   "metadata": {},
   "outputs": [],
   "source": [
    "print('1==1')\n",
    "print('1!=1')\n",
    "print('1>1')\n",
    "print('1<1')\n",
    "print('1>=1')\n",
    "print('1<=1')\n"
   ]
  },
  {
   "cell_type": "markdown",
   "metadata": {},
   "source": [
    "#### 논리연산"
   ]
  },
  {
   "cell_type": "code",
   "execution_count": null,
   "metadata": {},
   "outputs": [],
   "source": [
    "# kevin은 8살이고 키는 130센티미터입니다.\n",
    "# 나이가 10살 이상이고 키가 120 이상이면 놀이기구를 탈 수 있습니다.\n",
    "# kevin은 놀이기구를 탈 수 있을까요?\n",
    "age = 8\n",
    "height = 130\n",
    "\n",
    "print()"
   ]
  },
  {
   "cell_type": "code",
   "execution_count": null,
   "metadata": {},
   "outputs": [],
   "source": [
    "# kevin은 8살이고 키는 130센티미터입니다.\n",
    "# 나이가 10살 이상이거나 키가 120 이상이면 놀이기구를 탈 수 있습니다.\n",
    "# kevin은 놀이기구를 탈 수 있을까요?\n",
    "age = 8\n",
    "height = 130\n",
    "\n",
    "print()"
   ]
  },
  {
   "cell_type": "markdown",
   "metadata": {},
   "source": [
    "### 흐름 제어"
   ]
  },
  {
   "cell_type": "markdown",
   "metadata": {},
   "source": [
    "#### 조건문"
   ]
  },
  {
   "cell_type": "code",
   "execution_count": null,
   "metadata": {},
   "outputs": [],
   "source": [
    "# 60점 이상이면 합격\n",
    "score = 60"
   ]
  },
  {
   "cell_type": "code",
   "execution_count": null,
   "metadata": {},
   "outputs": [],
   "source": [
    "# 60점 이상이면 합격, 아니면 불합격\n",
    "score = 30"
   ]
  },
  {
   "cell_type": "code",
   "execution_count": null,
   "metadata": {},
   "outputs": [],
   "source": [
    "# 90점 이상이면 Good, 60점 이상이면 Soso, 그 외에는 Bad\n",
    "score = 75"
   ]
  },
  {
   "cell_type": "markdown",
   "metadata": {},
   "source": [
    "#### for 반복문"
   ]
  },
  {
   "cell_type": "code",
   "execution_count": null,
   "metadata": {},
   "outputs": [],
   "source": [
    "# ['apple','banana','kiwi']로 반복"
   ]
  },
  {
   "cell_type": "code",
   "execution_count": null,
   "metadata": {},
   "outputs": [],
   "source": [
    "# 'python'로 반복"
   ]
  },
  {
   "cell_type": "code",
   "execution_count": null,
   "metadata": {},
   "outputs": [],
   "source": [
    "# range(5)로 반복"
   ]
  },
  {
   "cell_type": "code",
   "execution_count": null,
   "metadata": {},
   "outputs": [],
   "source": [
    "# range(1,5)로 반복"
   ]
  },
  {
   "cell_type": "code",
   "execution_count": null,
   "metadata": {},
   "outputs": [],
   "source": [
    "# range(1,10,2)로 반복"
   ]
  },
  {
   "cell_type": "code",
   "execution_count": null,
   "metadata": {},
   "outputs": [],
   "source": [
    "# range(10,1,-1)로 반복"
   ]
  },
  {
   "cell_type": "code",
   "execution_count": null,
   "metadata": {},
   "outputs": [],
   "source": [
    "# 로켓발사 카운트다운 for문으로 만들기\n",
    "\n",
    "import time as t\n",
    "print(10)\n",
    "t.sleep(1)\n",
    "print(9)\n",
    "t.sleep(1)\n",
    "print(8)\n",
    "t.sleep(1)\n",
    "print(7)\n",
    "t.sleep(1)\n",
    "print(6)\n",
    "t.sleep(1)\n",
    "print(5)\n",
    "t.sleep(1)\n",
    "print(4)\n",
    "t.sleep(1)\n",
    "print(3)\n",
    "t.sleep(1)\n",
    "print(2)\n",
    "t.sleep(1)\n",
    "print(1)\n",
    "t.sleep(1)\n",
    "print('launch!')"
   ]
  },
  {
   "cell_type": "markdown",
   "metadata": {},
   "source": [
    "#### while 반복문"
   ]
  },
  {
   "cell_type": "code",
   "execution_count": null,
   "metadata": {},
   "outputs": [],
   "source": [
    "user_password = '1234'\n",
    "input_password = input(\"비밀번호를 입력하세요.\")\n",
    "\n",
    "# 올바른 비밀번호를 입력할 때까지 반복하여 비밀번호를 입력받습니다.\n",
    "# 올바른 비밀번호를 입력하면 '로그인 성공' 출력\n",
    "# 올바른 비밀번호가 아니면 '잘못된 비밀번호입니다' 출력\n"
   ]
  },
  {
   "cell_type": "code",
   "execution_count": null,
   "metadata": {},
   "outputs": [],
   "source": [
    "user_password = '1234'\n",
    "\n",
    "# 무한반복하며 비밀번호를 입력받습니다.\n",
    "# 올바른 비밀번호를 입력하면 '로그인 성공' 출력하고 반복 종료\n",
    "# 올바른 비밀번호가 아니면 '잘못된 비밀번호입니다' 출력"
   ]
  }
 ],
 "metadata": {
  "kernelspec": {
   "display_name": "Python 3 (ipykernel)",
   "language": "python",
   "name": "python3"
  },
  "language_info": {
   "codemirror_mode": {
    "name": "ipython",
    "version": 3
   },
   "file_extension": ".py",
   "mimetype": "text/x-python",
   "name": "python",
   "nbconvert_exporter": "python",
   "pygments_lexer": "ipython3",
   "version": "3.11.7"
  }
 },
 "nbformat": 4,
 "nbformat_minor": 4
}
