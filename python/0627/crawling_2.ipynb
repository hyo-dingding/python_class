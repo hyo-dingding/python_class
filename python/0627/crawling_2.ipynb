{
 "cells": [
  {
   "cell_type": "code",
   "execution_count": 142,
   "metadata": {},
   "outputs": [],
   "source": [
    "# https://finance.naver.com/marketindex/exchangeDailyQuote.naver?marketindexCd=FX_USDKRW&page=5\n",
    "\n",
    "# https://finance.naver.com/marketindex/exchangeDailyQuote.naver?marketindexCd=FX_EURKRW&page=2\n",
    "\n",
    "# https://finance.naver.com/marketindex/exchangeDailyQuote.naver?marketindexCd=FX_JPYKRW&page=3"
   ]
  },
  {
   "cell_type": "code",
   "execution_count": 143,
   "metadata": {},
   "outputs": [
    {
     "name": "stdout",
     "output_type": "stream",
     "text": [
      "==========미국 달러-USD==========\n",
      "           날짜   매매기준율  전일대비     사실 때     파실 때   보내실 때   받으실 때\n",
      "0  2024.06.27  1386.3   8.2  1410.56  1362.04  1399.8  1372.8\n",
      "1  2024.06.26  1394.5   2.5  1418.90  1370.10  1408.1  1380.9\n",
      "2  2024.06.25  1392.0   4.0  1416.36  1367.64  1405.6  1378.4\n",
      "3  2024.06.24  1388.0   3.0  1412.29  1363.71  1401.6  1374.4\n",
      "4  2024.06.21  1391.0   1.0  1415.34  1366.66  1404.6  1377.4\n",
      "5  2024.06.20  1392.0   9.0  1416.36  1367.64  1405.6  1378.4\n",
      "6  2024.06.19  1383.0   1.0  1407.20  1358.80  1396.5  1369.5\n",
      "7  2024.06.18  1382.0   0.0  1406.18  1357.82  1395.5  1368.5\n",
      "8  2024.06.17  1382.0   7.0  1406.18  1357.82  1395.5  1368.5\n",
      "9  2024.06.14  1389.0  11.0  1413.30  1364.70  1402.6  1375.4\n",
      "0  2024.06.13  1378.0   5.0  1402.11  1353.89  1391.5  1364.5\n",
      "1  2024.06.12  1373.0   7.0  1397.02  1348.98  1386.4  1359.6\n",
      "2  2024.06.11  1380.0   4.0  1404.15  1355.85  1393.5  1366.5\n",
      "3  2024.06.10  1376.0   5.0  1400.08  1351.92  1389.4  1362.6\n",
      "4  2024.06.07  1381.0   8.0  1405.16  1356.84  1394.5  1367.5\n",
      "5  2024.06.05  1373.0   2.0  1397.02  1348.98  1386.4  1359.6\n",
      "6  2024.06.04  1375.0   1.0  1399.06  1350.94  1388.4  1361.6\n",
      "7  2024.06.03  1374.0  11.0  1398.04  1349.96  1387.4  1360.6\n",
      "8  2024.05.31  1385.0   8.0  1409.23  1360.77  1398.5  1371.5\n",
      "9  2024.05.30  1377.0   6.0  1401.09  1352.91  1390.4  1363.6\n"
     ]
    }
   ],
   "source": [
    "import pandas as pd\n",
    "import warnings\n",
    "warnings.filterwarnings('ignore')\n",
    "\n",
    "\n",
    "code_in = int(input('통합유형 선택(0:USD, 1:EUR, 2:JPY)'))\n",
    "\n",
    "currency_symbols = ['USD', 'EUR', 'JPY']\n",
    "currency_name = ['미국 달러', '유럽연합 유로', '일본 엔(100)']\n",
    "\n",
    "code = currency_symbols[code_in]\n",
    "\n",
    "df = pd.DataFrame()\n",
    "for page_num in range(1,11):\n",
    "    base_url = f\"https://finance.naver.com/marketindex/exchangeDailyQuote.naver?marketindexCd=FX_{code}KRW&page={page_num}\"\n",
    "    tamp = pd.read_html(base_url, encoding='cp949', header=1)\n",
    "    \n",
    "    df = pd.concat([df, tamp[0]])\n",
    "    \n",
    "    \n",
    "# 데이터 표시\n",
    "\n",
    "print(f'=========={currency_name[code_in]}-{code}==========')\n",
    "print(df.head(20))\n"
   ]
  },
  {
   "cell_type": "code",
   "execution_count": 144,
   "metadata": {},
   "outputs": [
    {
     "data": {
      "text/html": [
       "<div>\n",
       "<style scoped>\n",
       "    .dataframe tbody tr th:only-of-type {\n",
       "        vertical-align: middle;\n",
       "    }\n",
       "\n",
       "    .dataframe tbody tr th {\n",
       "        vertical-align: top;\n",
       "    }\n",
       "\n",
       "    .dataframe thead th {\n",
       "        text-align: right;\n",
       "    }\n",
       "</style>\n",
       "<table border=\"1\" class=\"dataframe\">\n",
       "  <thead>\n",
       "    <tr style=\"text-align: right;\">\n",
       "      <th></th>\n",
       "      <th>날짜</th>\n",
       "      <th>매매기준율</th>\n",
       "      <th>전일대비</th>\n",
       "      <th>사실 때</th>\n",
       "      <th>파실 때</th>\n",
       "      <th>보내실 때</th>\n",
       "      <th>받으실 때</th>\n",
       "    </tr>\n",
       "  </thead>\n",
       "  <tbody>\n",
       "    <tr>\n",
       "      <th>0</th>\n",
       "      <td>2024.02.14</td>\n",
       "      <td>1332.0</td>\n",
       "      <td>10.5</td>\n",
       "      <td>1355.31</td>\n",
       "      <td>1308.69</td>\n",
       "      <td>1345.0</td>\n",
       "      <td>1319.0</td>\n",
       "    </tr>\n",
       "    <tr>\n",
       "      <th>1</th>\n",
       "      <td>2024.02.13</td>\n",
       "      <td>1342.5</td>\n",
       "      <td>10.5</td>\n",
       "      <td>1365.99</td>\n",
       "      <td>1319.01</td>\n",
       "      <td>1355.6</td>\n",
       "      <td>1329.4</td>\n",
       "    </tr>\n",
       "    <tr>\n",
       "      <th>2</th>\n",
       "      <td>2024.02.08</td>\n",
       "      <td>1332.0</td>\n",
       "      <td>3.0</td>\n",
       "      <td>1355.31</td>\n",
       "      <td>1308.69</td>\n",
       "      <td>1345.0</td>\n",
       "      <td>1319.0</td>\n",
       "    </tr>\n",
       "    <tr>\n",
       "      <th>3</th>\n",
       "      <td>2024.02.07</td>\n",
       "      <td>1329.0</td>\n",
       "      <td>0.5</td>\n",
       "      <td>1352.25</td>\n",
       "      <td>1305.75</td>\n",
       "      <td>1342.0</td>\n",
       "      <td>1316.0</td>\n",
       "    </tr>\n",
       "    <tr>\n",
       "      <th>4</th>\n",
       "      <td>2024.02.06</td>\n",
       "      <td>1328.5</td>\n",
       "      <td>7.0</td>\n",
       "      <td>1351.74</td>\n",
       "      <td>1305.26</td>\n",
       "      <td>1341.5</td>\n",
       "      <td>1315.5</td>\n",
       "    </tr>\n",
       "    <tr>\n",
       "      <th>5</th>\n",
       "      <td>2024.02.05</td>\n",
       "      <td>1335.5</td>\n",
       "      <td>3.0</td>\n",
       "      <td>1358.87</td>\n",
       "      <td>1312.13</td>\n",
       "      <td>1348.5</td>\n",
       "      <td>1322.5</td>\n",
       "    </tr>\n",
       "    <tr>\n",
       "      <th>6</th>\n",
       "      <td>2024.02.02</td>\n",
       "      <td>1338.5</td>\n",
       "      <td>7.5</td>\n",
       "      <td>1361.92</td>\n",
       "      <td>1315.08</td>\n",
       "      <td>1351.6</td>\n",
       "      <td>1325.4</td>\n",
       "    </tr>\n",
       "    <tr>\n",
       "      <th>7</th>\n",
       "      <td>2024.02.01</td>\n",
       "      <td>1331.0</td>\n",
       "      <td>4.0</td>\n",
       "      <td>1354.29</td>\n",
       "      <td>1307.71</td>\n",
       "      <td>1344.0</td>\n",
       "      <td>1318.0</td>\n",
       "    </tr>\n",
       "    <tr>\n",
       "      <th>8</th>\n",
       "      <td>2024.01.31</td>\n",
       "      <td>1335.0</td>\n",
       "      <td>4.0</td>\n",
       "      <td>1358.36</td>\n",
       "      <td>1311.64</td>\n",
       "      <td>1348.0</td>\n",
       "      <td>1322.0</td>\n",
       "    </tr>\n",
       "    <tr>\n",
       "      <th>9</th>\n",
       "      <td>2024.01.30</td>\n",
       "      <td>1331.0</td>\n",
       "      <td>3.5</td>\n",
       "      <td>1354.29</td>\n",
       "      <td>1307.71</td>\n",
       "      <td>1344.0</td>\n",
       "      <td>1318.0</td>\n",
       "    </tr>\n",
       "  </tbody>\n",
       "</table>\n",
       "</div>"
      ],
      "text/plain": [
       "           날짜   매매기준율  전일대비     사실 때     파실 때   보내실 때   받으실 때\n",
       "0  2024.02.14  1332.0  10.5  1355.31  1308.69  1345.0  1319.0\n",
       "1  2024.02.13  1342.5  10.5  1365.99  1319.01  1355.6  1329.4\n",
       "2  2024.02.08  1332.0   3.0  1355.31  1308.69  1345.0  1319.0\n",
       "3  2024.02.07  1329.0   0.5  1352.25  1305.75  1342.0  1316.0\n",
       "4  2024.02.06  1328.5   7.0  1351.74  1305.26  1341.5  1315.5\n",
       "5  2024.02.05  1335.5   3.0  1358.87  1312.13  1348.5  1322.5\n",
       "6  2024.02.02  1338.5   7.5  1361.92  1315.08  1351.6  1325.4\n",
       "7  2024.02.01  1331.0   4.0  1354.29  1307.71  1344.0  1318.0\n",
       "8  2024.01.31  1335.0   4.0  1358.36  1311.64  1348.0  1322.0\n",
       "9  2024.01.30  1331.0   3.5  1354.29  1307.71  1344.0  1318.0"
      ]
     },
     "execution_count": 144,
     "metadata": {},
     "output_type": "execute_result"
    }
   ],
   "source": [
    "tamp[0]"
   ]
  },
  {
   "cell_type": "code",
   "execution_count": 145,
   "metadata": {},
   "outputs": [
    {
     "data": {
      "text/plain": [
       "'USD'"
      ]
     },
     "execution_count": 145,
     "metadata": {},
     "output_type": "execute_result"
    }
   ],
   "source": [
    "code_in = int(input('통합유형 선택(0:USD, 1:EUR, 2:JPY)'))\n",
    "\n",
    "currency_symbols = ['USD', 'EUR', 'JPY']\n",
    "currency_name = ['미국 달러', '유럽연합 유로', '일본 엔(100)']\n",
    "\n",
    "currency_symbols[code_in]"
   ]
  },
  {
   "cell_type": "code",
   "execution_count": 146,
   "metadata": {},
   "outputs": [
    {
     "data": {
      "text/plain": [
       "Index(['날짜', '매매기준율', '전일대비', '사실 때', '파실 때', '보내실 때', '받으실 때'], dtype='object')"
      ]
     },
     "execution_count": 146,
     "metadata": {},
     "output_type": "execute_result"
    }
   ],
   "source": [
    "df.columns"
   ]
  },
  {
   "cell_type": "code",
   "execution_count": 147,
   "metadata": {},
   "outputs": [],
   "source": [
    "# 원하는 열만 추출\n",
    "df_total = df[['날짜', '매매기준율', '사실 때', '파실 때', '보내실 때', '받으실 때']]"
   ]
  },
  {
   "cell_type": "code",
   "execution_count": 148,
   "metadata": {},
   "outputs": [
    {
     "name": "stdout",
     "output_type": "stream",
     "text": [
      "<class 'pandas.core.frame.DataFrame'>\n",
      "Index: 100 entries, 0 to 9\n",
      "Data columns (total 6 columns):\n",
      " #   Column  Non-Null Count  Dtype  \n",
      "---  ------  --------------  -----  \n",
      " 0   날짜      100 non-null    object \n",
      " 1   매매기준율   100 non-null    float64\n",
      " 2   사실 때    100 non-null    float64\n",
      " 3   파실 때    100 non-null    float64\n",
      " 4   보내실 때   100 non-null    float64\n",
      " 5   받으실 때   100 non-null    float64\n",
      "dtypes: float64(5), object(1)\n",
      "memory usage: 5.5+ KB\n"
     ]
    }
   ],
   "source": [
    "df_total.info()"
   ]
  },
  {
   "cell_type": "code",
   "execution_count": 149,
   "metadata": {},
   "outputs": [],
   "source": [
    "# 날짜 -> object 임  숫자로 변환 날짜형으로 변환\n",
    "\n",
    "df_total_chart = df_total.copy()\n"
   ]
  },
  {
   "cell_type": "code",
   "execution_count": 150,
   "metadata": {},
   "outputs": [],
   "source": [
    "# pandas 로 차트를 만들때 인덱스가 X 축임. \n",
    "# 날짜를 인덱스로 \n",
    "df_total_chart = df_total_chart.set_index('날짜')"
   ]
  },
  {
   "cell_type": "code",
   "execution_count": 151,
   "metadata": {},
   "outputs": [],
   "source": [
    "# 최신데이터와 과거데이터의 순서를 바꿈. 역순으로 표시\n",
    "df_total_chart=df_total_chart[::-1]"
   ]
  },
  {
   "cell_type": "code",
   "execution_count": 152,
   "metadata": {},
   "outputs": [],
   "source": [
    "import matplotlib.pyplot as plt\n",
    "\n",
    "plt.rc('font', family='Malgun Gothic')"
   ]
  },
  {
   "cell_type": "code",
   "execution_count": 153,
   "metadata": {},
   "outputs": [
    {
     "data": {
      "text/plain": [
       "<Axes: title={'center': 'exchange rate'}, xlabel='날짜'>"
      ]
     },
     "execution_count": 153,
     "metadata": {},
     "output_type": "execute_result"
    },
    {
     "data": {
      "image/png": "[encoded data removed]",
      "text/plain": [
       "<Figure size 1500x600 with 1 Axes>"
      ]
     },
     "metadata": {},
     "output_type": "display_data"
    }
   ],
   "source": [
    "\n",
    "df_total_chart['매매기준율'].plot(figsize=(15, 6), title='exchange rate')"
   ]
  },
  {
   "cell_type": "markdown",
   "metadata": {},
   "source": [
    "#### 월별 검색"
   ]
  },
  {
   "cell_type": "code",
   "execution_count": 154,
   "metadata": {},
   "outputs": [
    {
     "data": {
      "text/html": [
       "<div>\n",
       "<style scoped>\n",
       "    .dataframe tbody tr th:only-of-type {\n",
       "        vertical-align: middle;\n",
       "    }\n",
       "\n",
       "    .dataframe tbody tr th {\n",
       "        vertical-align: top;\n",
       "    }\n",
       "\n",
       "    .dataframe thead th {\n",
       "        text-align: right;\n",
       "    }\n",
       "</style>\n",
       "<table border=\"1\" class=\"dataframe\">\n",
       "  <thead>\n",
       "    <tr style=\"text-align: right;\">\n",
       "      <th></th>\n",
       "      <th>날짜</th>\n",
       "      <th>매매기준율</th>\n",
       "      <th>사실 때</th>\n",
       "      <th>파실 때</th>\n",
       "      <th>보내실 때</th>\n",
       "      <th>받으실 때</th>\n",
       "    </tr>\n",
       "  </thead>\n",
       "  <tbody>\n",
       "    <tr>\n",
       "      <th>0</th>\n",
       "      <td>2024.06.27</td>\n",
       "      <td>1386.3</td>\n",
       "      <td>1410.56</td>\n",
       "      <td>1362.04</td>\n",
       "      <td>1399.8</td>\n",
       "      <td>1372.8</td>\n",
       "    </tr>\n",
       "    <tr>\n",
       "      <th>1</th>\n",
       "      <td>2024.06.26</td>\n",
       "      <td>1394.5</td>\n",
       "      <td>1418.90</td>\n",
       "      <td>1370.10</td>\n",
       "      <td>1408.1</td>\n",
       "      <td>1380.9</td>\n",
       "    </tr>\n",
       "    <tr>\n",
       "      <th>2</th>\n",
       "      <td>2024.06.25</td>\n",
       "      <td>1392.0</td>\n",
       "      <td>1416.36</td>\n",
       "      <td>1367.64</td>\n",
       "      <td>1405.6</td>\n",
       "      <td>1378.4</td>\n",
       "    </tr>\n",
       "    <tr>\n",
       "      <th>3</th>\n",
       "      <td>2024.06.24</td>\n",
       "      <td>1388.0</td>\n",
       "      <td>1412.29</td>\n",
       "      <td>1363.71</td>\n",
       "      <td>1401.6</td>\n",
       "      <td>1374.4</td>\n",
       "    </tr>\n",
       "    <tr>\n",
       "      <th>4</th>\n",
       "      <td>2024.06.21</td>\n",
       "      <td>1391.0</td>\n",
       "      <td>1415.34</td>\n",
       "      <td>1366.66</td>\n",
       "      <td>1404.6</td>\n",
       "      <td>1377.4</td>\n",
       "    </tr>\n",
       "    <tr>\n",
       "      <th>...</th>\n",
       "      <td>...</td>\n",
       "      <td>...</td>\n",
       "      <td>...</td>\n",
       "      <td>...</td>\n",
       "      <td>...</td>\n",
       "      <td>...</td>\n",
       "    </tr>\n",
       "    <tr>\n",
       "      <th>5</th>\n",
       "      <td>2024.02.05</td>\n",
       "      <td>1335.5</td>\n",
       "      <td>1358.87</td>\n",
       "      <td>1312.13</td>\n",
       "      <td>1348.5</td>\n",
       "      <td>1322.5</td>\n",
       "    </tr>\n",
       "    <tr>\n",
       "      <th>6</th>\n",
       "      <td>2024.02.02</td>\n",
       "      <td>1338.5</td>\n",
       "      <td>1361.92</td>\n",
       "      <td>1315.08</td>\n",
       "      <td>1351.6</td>\n",
       "      <td>1325.4</td>\n",
       "    </tr>\n",
       "    <tr>\n",
       "      <th>7</th>\n",
       "      <td>2024.02.01</td>\n",
       "      <td>1331.0</td>\n",
       "      <td>1354.29</td>\n",
       "      <td>1307.71</td>\n",
       "      <td>1344.0</td>\n",
       "      <td>1318.0</td>\n",
       "    </tr>\n",
       "    <tr>\n",
       "      <th>8</th>\n",
       "      <td>2024.01.31</td>\n",
       "      <td>1335.0</td>\n",
       "      <td>1358.36</td>\n",
       "      <td>1311.64</td>\n",
       "      <td>1348.0</td>\n",
       "      <td>1322.0</td>\n",
       "    </tr>\n",
       "    <tr>\n",
       "      <th>9</th>\n",
       "      <td>2024.01.30</td>\n",
       "      <td>1331.0</td>\n",
       "      <td>1354.29</td>\n",
       "      <td>1307.71</td>\n",
       "      <td>1344.0</td>\n",
       "      <td>1318.0</td>\n",
       "    </tr>\n",
       "  </tbody>\n",
       "</table>\n",
       "<p>100 rows × 6 columns</p>\n",
       "</div>"
      ],
      "text/plain": [
       "            날짜   매매기준율     사실 때     파실 때   보내실 때   받으실 때\n",
       "0   2024.06.27  1386.3  1410.56  1362.04  1399.8  1372.8\n",
       "1   2024.06.26  1394.5  1418.90  1370.10  1408.1  1380.9\n",
       "2   2024.06.25  1392.0  1416.36  1367.64  1405.6  1378.4\n",
       "3   2024.06.24  1388.0  1412.29  1363.71  1401.6  1374.4\n",
       "4   2024.06.21  1391.0  1415.34  1366.66  1404.6  1377.4\n",
       "..         ...     ...      ...      ...     ...     ...\n",
       "5   2024.02.05  1335.5  1358.87  1312.13  1348.5  1322.5\n",
       "6   2024.02.02  1338.5  1361.92  1315.08  1351.6  1325.4\n",
       "7   2024.02.01  1331.0  1354.29  1307.71  1344.0  1318.0\n",
       "8   2024.01.31  1335.0  1358.36  1311.64  1348.0  1322.0\n",
       "9   2024.01.30  1331.0  1354.29  1307.71  1344.0  1318.0\n",
       "\n",
       "[100 rows x 6 columns]"
      ]
     },
     "execution_count": 154,
     "metadata": {},
     "output_type": "execute_result"
    }
   ],
   "source": [
    "df_total"
   ]
  },
  {
   "cell_type": "code",
   "execution_count": 155,
   "metadata": {},
   "outputs": [],
   "source": [
    "# 날짜 열 형변환(문자열 -> 날짜형식) \n",
    "# replace 바꾸기 값하나 변경시  \n",
    "#df_total=df_total['날짜'].replace('.','')\n",
    "\n",
    "df_total['날짜']=df_total['날짜'].str.replace(\".\",\"\").astype('datetime64[ms]')"
   ]
  },
  {
   "cell_type": "code",
   "execution_count": 156,
   "metadata": {},
   "outputs": [
    {
     "name": "stdout",
     "output_type": "stream",
     "text": [
      "<class 'pandas.core.frame.DataFrame'>\n",
      "Index: 100 entries, 0 to 9\n",
      "Data columns (total 6 columns):\n",
      " #   Column  Non-Null Count  Dtype         \n",
      "---  ------  --------------  -----         \n",
      " 0   날짜      100 non-null    datetime64[ms]\n",
      " 1   매매기준율   100 non-null    float64       \n",
      " 2   사실 때    100 non-null    float64       \n",
      " 3   파실 때    100 non-null    float64       \n",
      " 4   보내실 때   100 non-null    float64       \n",
      " 5   받으실 때   100 non-null    float64       \n",
      "dtypes: datetime64[ms](1), float64(5)\n",
      "memory usage: 5.5 KB\n"
     ]
    }
   ],
   "source": [
    "\n",
    "df_total.info()"
   ]
  },
  {
   "cell_type": "code",
   "execution_count": 157,
   "metadata": {},
   "outputs": [],
   "source": [
    "# '월' 파생변수 생성 \n",
    "df_total['월'] = df_total['날짜'].dt.month\n",
    "# df_total['월'] = df_total['날짜'].dt.year"
   ]
  },
  {
   "cell_type": "code",
   "execution_count": 158,
   "metadata": {},
   "outputs": [
    {
     "data": {
      "text/html": [
       "<div>\n",
       "<style scoped>\n",
       "    .dataframe tbody tr th:only-of-type {\n",
       "        vertical-align: middle;\n",
       "    }\n",
       "\n",
       "    .dataframe tbody tr th {\n",
       "        vertical-align: top;\n",
       "    }\n",
       "\n",
       "    .dataframe thead th {\n",
       "        text-align: right;\n",
       "    }\n",
       "</style>\n",
       "<table border=\"1\" class=\"dataframe\">\n",
       "  <thead>\n",
       "    <tr style=\"text-align: right;\">\n",
       "      <th></th>\n",
       "      <th>날짜</th>\n",
       "      <th>매매기준율</th>\n",
       "      <th>사실 때</th>\n",
       "      <th>파실 때</th>\n",
       "      <th>보내실 때</th>\n",
       "      <th>받으실 때</th>\n",
       "      <th>월</th>\n",
       "    </tr>\n",
       "  </thead>\n",
       "  <tbody>\n",
       "    <tr>\n",
       "      <th>0</th>\n",
       "      <td>2024-06-27</td>\n",
       "      <td>1386.3</td>\n",
       "      <td>1410.56</td>\n",
       "      <td>1362.04</td>\n",
       "      <td>1399.8</td>\n",
       "      <td>1372.8</td>\n",
       "      <td>6</td>\n",
       "    </tr>\n",
       "    <tr>\n",
       "      <th>1</th>\n",
       "      <td>2024-06-26</td>\n",
       "      <td>1394.5</td>\n",
       "      <td>1418.90</td>\n",
       "      <td>1370.10</td>\n",
       "      <td>1408.1</td>\n",
       "      <td>1380.9</td>\n",
       "      <td>6</td>\n",
       "    </tr>\n",
       "    <tr>\n",
       "      <th>2</th>\n",
       "      <td>2024-06-25</td>\n",
       "      <td>1392.0</td>\n",
       "      <td>1416.36</td>\n",
       "      <td>1367.64</td>\n",
       "      <td>1405.6</td>\n",
       "      <td>1378.4</td>\n",
       "      <td>6</td>\n",
       "    </tr>\n",
       "    <tr>\n",
       "      <th>3</th>\n",
       "      <td>2024-06-24</td>\n",
       "      <td>1388.0</td>\n",
       "      <td>1412.29</td>\n",
       "      <td>1363.71</td>\n",
       "      <td>1401.6</td>\n",
       "      <td>1374.4</td>\n",
       "      <td>6</td>\n",
       "    </tr>\n",
       "    <tr>\n",
       "      <th>4</th>\n",
       "      <td>2024-06-21</td>\n",
       "      <td>1391.0</td>\n",
       "      <td>1415.34</td>\n",
       "      <td>1366.66</td>\n",
       "      <td>1404.6</td>\n",
       "      <td>1377.4</td>\n",
       "      <td>6</td>\n",
       "    </tr>\n",
       "    <tr>\n",
       "      <th>...</th>\n",
       "      <td>...</td>\n",
       "      <td>...</td>\n",
       "      <td>...</td>\n",
       "      <td>...</td>\n",
       "      <td>...</td>\n",
       "      <td>...</td>\n",
       "      <td>...</td>\n",
       "    </tr>\n",
       "    <tr>\n",
       "      <th>5</th>\n",
       "      <td>2024-02-05</td>\n",
       "      <td>1335.5</td>\n",
       "      <td>1358.87</td>\n",
       "      <td>1312.13</td>\n",
       "      <td>1348.5</td>\n",
       "      <td>1322.5</td>\n",
       "      <td>2</td>\n",
       "    </tr>\n",
       "    <tr>\n",
       "      <th>6</th>\n",
       "      <td>2024-02-02</td>\n",
       "      <td>1338.5</td>\n",
       "      <td>1361.92</td>\n",
       "      <td>1315.08</td>\n",
       "      <td>1351.6</td>\n",
       "      <td>1325.4</td>\n",
       "      <td>2</td>\n",
       "    </tr>\n",
       "    <tr>\n",
       "      <th>7</th>\n",
       "      <td>2024-02-01</td>\n",
       "      <td>1331.0</td>\n",
       "      <td>1354.29</td>\n",
       "      <td>1307.71</td>\n",
       "      <td>1344.0</td>\n",
       "      <td>1318.0</td>\n",
       "      <td>2</td>\n",
       "    </tr>\n",
       "    <tr>\n",
       "      <th>8</th>\n",
       "      <td>2024-01-31</td>\n",
       "      <td>1335.0</td>\n",
       "      <td>1358.36</td>\n",
       "      <td>1311.64</td>\n",
       "      <td>1348.0</td>\n",
       "      <td>1322.0</td>\n",
       "      <td>1</td>\n",
       "    </tr>\n",
       "    <tr>\n",
       "      <th>9</th>\n",
       "      <td>2024-01-30</td>\n",
       "      <td>1331.0</td>\n",
       "      <td>1354.29</td>\n",
       "      <td>1307.71</td>\n",
       "      <td>1344.0</td>\n",
       "      <td>1318.0</td>\n",
       "      <td>1</td>\n",
       "    </tr>\n",
       "  </tbody>\n",
       "</table>\n",
       "<p>100 rows × 7 columns</p>\n",
       "</div>"
      ],
      "text/plain": [
       "           날짜   매매기준율     사실 때     파실 때   보내실 때   받으실 때  월\n",
       "0  2024-06-27  1386.3  1410.56  1362.04  1399.8  1372.8  6\n",
       "1  2024-06-26  1394.5  1418.90  1370.10  1408.1  1380.9  6\n",
       "2  2024-06-25  1392.0  1416.36  1367.64  1405.6  1378.4  6\n",
       "3  2024-06-24  1388.0  1412.29  1363.71  1401.6  1374.4  6\n",
       "4  2024-06-21  1391.0  1415.34  1366.66  1404.6  1377.4  6\n",
       "..        ...     ...      ...      ...     ...     ... ..\n",
       "5  2024-02-05  1335.5  1358.87  1312.13  1348.5  1322.5  2\n",
       "6  2024-02-02  1338.5  1361.92  1315.08  1351.6  1325.4  2\n",
       "7  2024-02-01  1331.0  1354.29  1307.71  1344.0  1318.0  2\n",
       "8  2024-01-31  1335.0  1358.36  1311.64  1348.0  1322.0  1\n",
       "9  2024-01-30  1331.0  1354.29  1307.71  1344.0  1318.0  1\n",
       "\n",
       "[100 rows x 7 columns]"
      ]
     },
     "execution_count": 158,
     "metadata": {},
     "output_type": "execute_result"
    }
   ],
   "source": [
    "df_total"
   ]
  },
  {
   "cell_type": "code",
   "execution_count": 159,
   "metadata": {},
   "outputs": [],
   "source": [
    "month_in = int(input('검색할 월 입력>>'))\n",
    "\n",
    "month_df = df_total.loc[df_total['월'] == month_in, ['날짜', '매매기준율', '사실 때','파실 때',\t'보내실 때','받으실 때'\t]]\n"
   ]
  },
  {
   "cell_type": "code",
   "execution_count": 160,
   "metadata": {},
   "outputs": [],
   "source": [
    "month_df = month_df.reset_index(drop=True)"
   ]
  },
  {
   "cell_type": "code",
   "execution_count": 161,
   "metadata": {},
   "outputs": [],
   "source": [
    "#df_total[::-1].reset_index(drop=True)"
   ]
  },
  {
   "cell_type": "code",
   "execution_count": 162,
   "metadata": {},
   "outputs": [],
   "source": [
    "month_df_chart = month_df.copy()"
   ]
  },
  {
   "cell_type": "code",
   "execution_count": 163,
   "metadata": {},
   "outputs": [],
   "source": [
    "month_df_chart = month_df_chart.set_index('날짜')"
   ]
  },
  {
   "cell_type": "code",
   "execution_count": 164,
   "metadata": {},
   "outputs": [
    {
     "data": {
      "text/plain": [
       "<Axes: xlabel='날짜'>"
      ]
     },
     "execution_count": 164,
     "metadata": {},
     "output_type": "execute_result"
    },
    {
     "data": {
      "image/png": "[encoded data removed]",
      "text/plain": [
       "<Figure size 1500x600 with 1 Axes>"
      ]
     },
     "metadata": {},
     "output_type": "display_data"
    }
   ],
   "source": [
    "month_df_chart['매매기준율'].plot(figsize=(15,6))"
   ]
  },
  {
   "cell_type": "code",
   "execution_count": null,
   "metadata": {},
   "outputs": [],
   "source": []
  }
 ],
 "metadata": {
  "kernelspec": {
   "display_name": "Python 3",
   "language": "python",
   "name": "python3"
  },
  "language_info": {
   "codemirror_mode": {
    "name": "ipython",
    "version": 3
   },
   "file_extension": ".py",
   "mimetype": "text/x-python",
   "name": "python",
   "nbconvert_exporter": "python",
   "pygments_lexer": "ipython3",
   "version": "3.12.4"
  }
 },
 "nbformat": 4,
 "nbformat_minor": 2
}
